{
 "cells": [
  {
   "cell_type": "markdown",
   "metadata": {},
   "source": [
    "# Question 2\n",
    "For this challenge you need to develop a Python program to open a file in read only mode and try\n",
    "writing something to it and handle the subsequent errors using Exception Handling"
   ]
  },
  {
   "cell_type": "code",
   "execution_count": 1,
   "metadata": {},
   "outputs": [
    {
     "name": "stdout",
     "output_type": "stream",
     "text": [
      "not writable\n"
     ]
    }
   ],
   "source": [
    "file = open (\"rutvi.txt\",\"w\")\n",
    "file.write(\"Blank\")\n",
    "file.close()\n",
    "\n",
    "try:\n",
    "    x = open(\"rutvi.txt\",\"r\")\n",
    "    x.write(\"hi\")\n",
    "except Exception as e:\n",
    "    print(e)"
   ]
  },
  {
   "cell_type": "markdown",
   "metadata": {},
   "source": [
    "# Question 1\n",
    "Write a decorator function for your taking input for you any kind of function you want to build,\n",
    "For example - You make a fibonacci series function,in which your input range is been defined by\n",
    "the decorator program input."
   ]
  },
  {
   "cell_type": "code",
   "execution_count": 32,
   "metadata": {},
   "outputs": [
    {
     "name": "stdout",
     "output_type": "stream",
     "text": [
      "rutvija\n",
      "RUTVIJA\n"
     ]
    }
   ],
   "source": [
    "def capitalize(func):\n",
    "    def uppercase():\n",
    "        return_string = func()\n",
    "        return return_string.upper()\n",
    "    return uppercase\n",
    "def rutvija():\n",
    "    return \"rutvija\"\n",
    "print(rutvija())\n",
    "@capitalize\n",
    "def rutvija():\n",
    "    return \"rutvija\"\n",
    "print(rutvija())"
   ]
  },
  {
   "cell_type": "code",
   "execution_count": null,
   "metadata": {},
   "outputs": [],
   "source": []
  }
 ],
 "metadata": {
  "kernelspec": {
   "display_name": "Python 3",
   "language": "python",
   "name": "python3"
  },
  "language_info": {
   "codemirror_mode": {
    "name": "ipython",
    "version": 3
   },
   "file_extension": ".py",
   "mimetype": "text/x-python",
   "name": "python",
   "nbconvert_exporter": "python",
   "pygments_lexer": "ipython3",
   "version": "3.8.3"
  }
 },
 "nbformat": 4,
 "nbformat_minor": 4
}
