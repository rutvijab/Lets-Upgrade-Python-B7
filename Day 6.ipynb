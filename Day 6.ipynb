{
 "cells": [
  {
   "cell_type": "markdown",
   "metadata": {},
   "source": [
    "# Question 1\n",
    "For this challenge,create a bank account class that has two attributes\n",
    "*ownerName\n",
    "*Balance\n",
    "And two methods\n",
    "*deposit\n",
    "*withdraw\n",
    "As an added requirement,withdrawals may not exceed the available balance.\n",
    "Instantiate your class,make several deposits and withdrawals,and test to make sure the account\n",
    "cant be overdrawn."
   ]
  },
  {
   "cell_type": "code",
   "execution_count": 68,
   "metadata": {},
   "outputs": [],
   "source": [
    "class bank_account():\n",
    "    def __init__(self, owner_name, balance):\n",
    "        self.owner_name = owner_name\n",
    "        self.balance = balance\n",
    "        \n",
    "    def deposit(self,amountx):\n",
    "        self.balance += amountx\n",
    "        print(\"You have deposited \"+str(amountx)+\" to your account \\nyour current balance is:\",self.balance)\n",
    "        \n",
    "    def withdrawal(self,amount):\n",
    "        if(amount>self.balance):\n",
    "            print(\"Insufficieny balance!\")\n",
    "        else:\n",
    "            self.balance-=amount\n",
    "            print(\"You have withdrawn \"+str(amount)+ \" from you account \\nyour current balance is:\",self.balance)\n",
    "            \n",
    "        \n",
    "        "
   ]
  },
  {
   "cell_type": "code",
   "execution_count": 69,
   "metadata": {},
   "outputs": [],
   "source": [
    "Account = bank_account(\"Rutvi\",10000)"
   ]
  },
  {
   "cell_type": "code",
   "execution_count": 70,
   "metadata": {},
   "outputs": [
    {
     "name": "stdout",
     "output_type": "stream",
     "text": [
      "You have deposited 4000 to your account \n",
      "your current balance is: 14000\n"
     ]
    }
   ],
   "source": [
    "Account.deposit(4000)"
   ]
  },
  {
   "cell_type": "code",
   "execution_count": 71,
   "metadata": {},
   "outputs": [
    {
     "name": "stdout",
     "output_type": "stream",
     "text": [
      "Insufficieny balance!\n"
     ]
    }
   ],
   "source": [
    "Account.withdrawal(15000)"
   ]
  },
  {
   "cell_type": "code",
   "execution_count": 72,
   "metadata": {},
   "outputs": [
    {
     "name": "stdout",
     "output_type": "stream",
     "text": [
      "You have withdrawn 5000 from you account \n",
      "your current balance is: 9000\n"
     ]
    }
   ],
   "source": [
    "Account.withdrawal(5000)"
   ]
  },
  {
   "cell_type": "markdown",
   "metadata": {},
   "source": [
    "# Question 2\n",
    "For this challenge,create a cone class that has two attributes:\n",
    "*R=Radius\n",
    "*h=Height\n",
    "And two methods:\n",
    "*Volume = Π * r2 = (h/3)\n",
    "*Surface area : base : Π * r2 , side : Π * r * √(r2 + h2)\n",
    "Make only one class with functions,as in where required import Math."
   ]
  },
  {
   "cell_type": "code",
   "execution_count": 91,
   "metadata": {},
   "outputs": [],
   "source": [
    "import math\n",
    "class cone():\n",
    "    def __init__(self,radius,height):\n",
    "        self.radius = radius\n",
    "        self.height = height\n",
    "    def volume(self):\n",
    "        #volume=1/3*3.14*2radius*height\n",
    "        x=1/3*3.14*(self.radius*2)*self.height\n",
    "        return (round(x,3))\n",
    "    def surface_area(self):\n",
    "        #surfacearea=3.14*r*h+3.14*r square\n",
    "        y=3.14*(self.radius)*(self.height)+3.14*(self.radius)*(self.radius)\n",
    "        return (round(y,3))"
   ]
  },
  {
   "cell_type": "code",
   "execution_count": 92,
   "metadata": {},
   "outputs": [],
   "source": [
    "value= cone(10,10)"
   ]
  },
  {
   "cell_type": "code",
   "execution_count": 93,
   "metadata": {},
   "outputs": [
    {
     "data": {
      "text/plain": [
       "209.333"
      ]
     },
     "execution_count": 93,
     "metadata": {},
     "output_type": "execute_result"
    }
   ],
   "source": [
    "value.volume()"
   ]
  },
  {
   "cell_type": "code",
   "execution_count": 94,
   "metadata": {},
   "outputs": [
    {
     "data": {
      "text/plain": [
       "628.0"
      ]
     },
     "execution_count": 94,
     "metadata": {},
     "output_type": "execute_result"
    }
   ],
   "source": [
    "value.surface_area()"
   ]
  },
  {
   "cell_type": "code",
   "execution_count": null,
   "metadata": {},
   "outputs": [],
   "source": []
  }
 ],
 "metadata": {
  "kernelspec": {
   "display_name": "Python 3",
   "language": "python",
   "name": "python3"
  },
  "language_info": {
   "codemirror_mode": {
    "name": "ipython",
    "version": 3
   },
   "file_extension": ".py",
   "mimetype": "text/x-python",
   "name": "python",
   "nbconvert_exporter": "python",
   "pygments_lexer": "ipython3",
   "version": "3.8.3"
  }
 },
 "nbformat": 4,
 "nbformat_minor": 4
}
